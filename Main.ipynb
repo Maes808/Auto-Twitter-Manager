{
  "nbformat": 4,
  "nbformat_minor": 0,
  "metadata": {
    "colab": {
      "provenance": []
    },
    "kernelspec": {
      "name": "python3",
      "display_name": "Python 3"
    },
    "language_info": {
      "name": "python"
    }
  },
  "cells": [
    {
      "cell_type": "markdown",
      "metadata": {
        "id": "intro"
      },
      "source": [
        "# 🚀 Auto Social-Media Manager (Twitter-only)\n",
        "*100 % free, runs in Google Colab*\n",
        "\n",
        "## Quick start\n",
        "1. Add secrets in Colab Secrets (🔑 sidebar):\n",
        "   - OPENROUTER_KEY\n",
        "   - TWITTER_BEARER\n",
        "   - TWITTER_CONSUMER_KEY\n",
        "   - TWITTER_CONSUMER_SECRET\n",
        "   - TWITTER_ACCESS_TOKEN\n",
        "   - TWITTER_ACCESS_TOKEN_SECRET\n",
        "2. Run all cells → leave the last cell running → tweets every 5 min."
      ]
    },
    {
      "cell_type": "code",
      "execution_count": null,
      "metadata": {
        "id": "install"
      },
      "outputs": [],
      "source": [
        "!pip install schedule tweepy requests -q"
      ]
    },
    {
      "cell_type": "code",
      "execution_count": null,
      "metadata": {
        "id": "imports"
      },
      "outputs": [],
      "source": [
        "import requests, schedule, time, uuid, random\n",
        "from google.colab import userdata\n",
        "import tweepy"
      ]
    },
    {
      "cell_type": "code",
      "execution_count": null,
      "metadata": {
        "id": "generate_post"
      },
      "outputs": [],
      "source": [
        "def generate_post(topic, platform):\n",
        "    sub_topics = [\n",
        "        \"risk management\", \"support & resistance\", \"candlestick patterns\",\n",
        "        \"market psychology\", \"position sizing\", \"breakout strategies\",\n",
        "        \"bull flag vs bear flag\", \"stop-loss placement\", \"FOMO control\",\n",
        "        \"golden cross / death cross\", \"volume spikes\", \"moving averages\",\n",
        "        \"divergences\", \"price action\", \"crypto vs forex volatility\"\n",
        "    ]\n",
        "    sub = random.choice(sub_topics)\n",
        "    prompt = (\n",
        "        f\"Give a single, punchy trading tip about {sub}. \"\n",
        "        f\"Keep it under 250 characters. Add 1-2 emojis.\"\n",
        "    )\n",
        "    url = \"https://openrouter.ai/api/v1/chat/completions\"\n",
        "    headers = {\n",
        "        \"Authorization\": f\"Bearer {userdata.get('OPENROUTER_KEY')}\",\n",
        "        \"Content-Type\": \"application/json\"\n",
        "    }\n",
        "    payload = {\n",
        "        \"model\": \"mistralai/mistral-small-3.2-24b-instruct:free\",\n",
        "        \"messages\": [{\"role\": \"user\", \"content\": prompt}],\n",
        "        \"max_tokens\": 60,\n",
        "        \"temperature\": 0.75\n",
        "    }\n",
        "    r = requests.post(url, headers=headers, json=payload, timeout=30)\n",
        "    if r.status_code != 200:\n",
        "        return \"Markets are closed for deep thoughts 🤔\"\n",
        "    text = r.json()[\"choices\"][0][\"message\"][\"content\"].strip()\n",
        "    text = text.split(\"\\n\")[0][:250]\n",
        "    text += f\" #{uuid.uuid4().hex[:4]}\"   # avoid duplicates\n",
        "    return text"
      ]
    },
    {
      "cell_type": "code",
      "execution_count": null,
      "metadata": {
        "id": "post_twitter"
      },
      "outputs": [],
      "source": [
        "def post_twitter(text):\n",
        "    client = tweepy.Client(\n",
        "        bearer_token=userdata.get(\"TWITTER_BEARER\"),\n",
        "        consumer_key=userdata.get(\"TWITTER_CONSUMER_KEY\"),\n",
        "        consumer_secret=userdata.get(\"TWITTER_CONSUMER_SECRET\"),\n",
        "        access_token=userdata.get(\"TWITTER_ACCESS_TOKEN\"),\n",
        "        access_token_secret=userdata.get(\"TWITTER_ACCESS_TOKEN_SECRET\")\n",
        "    )\n",
        "    client.create_tweet(text=text)"
      ]
    },
    {
      "cell_type": "code",
      "execution_count": null,
      "metadata": {
        "id": "scheduler"
      },
      "outputs": [],
      "source": [
        "import schedule, time\n",
        "from datetime import datetime\n",
        "\n",
        "def job():\n",
        "    post_text = generate_post(\"trading\", \"Twitter\")\n",
        "    try:\n",
        "        post_twitter(post_text)\n",
        "        print(f\"[{datetime.now().strftime('%H:%M')}] Posted: {post_text}\")\n",
        "    except Exception as e:\n",
        "        print(\"Posting error:\", e)\n",
        "\n",
        "schedule.every(5).minutes.do(job)\n",
        "\n",
        "print(\"🚀 Twitter-only trading bot started. Leave this cell running.\")\n",
        "while True:\n",
        "    schedule.run_pending()\n",
        "    time.sleep(1)"
      ]
    }
  ]
}
